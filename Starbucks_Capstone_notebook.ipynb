{
 "cells": [
  {
   "cell_type": "markdown",
   "metadata": {},
   "source": [
    "# Starbucks Capstone Challenge\n",
    "\n",
    "### Introduction\n",
    "\n",
    "This data set contains simulated data that mimics customer behavior on the Starbucks rewards mobile app. Once every few days, Starbucks sends out an offer to users of the mobile app. An offer can be merely an advertisement for a drink or an actual offer such as a discount or BOGO (buy one get one free). Some users might not receive any offer during certain weeks. \n",
    "\n",
    "Not all users receive the same offer, and that is the challenge to solve with this data set.\n",
    "\n",
    "Your task is to combine transaction, demographic and offer data to determine which demographic groups respond best to which offer type. This data set is a simplified version of the real Starbucks app because the underlying simulator only has one product whereas Starbucks actually sells dozens of products.\n",
    "\n",
    "Every offer has a validity period before the offer expires. As an example, a BOGO offer might be valid for only 5 days. You'll see in the data set that informational offers have a validity period even though these ads are merely providing information about a product; for example, if an informational offer has 7 days of validity, you can assume the customer is feeling the influence of the offer for 7 days after receiving the advertisement.\n",
    "\n",
    "You'll be given transactional data showing user purchases made on the app including the timestamp of purchase and the amount of money spent on a purchase. This transactional data also has a record for each offer that a user receives as well as a record for when a user actually views the offer. There are also records for when a user completes an offer. \n",
    "\n",
    "Keep in mind as well that someone using the app might make a purchase through the app without having received an offer or seen an offer.\n",
    "\n",
    "### Example\n",
    "\n",
    "To give an example, a user could receive a discount offer buy 10 dollars get 2 off on Monday. The offer is valid for 10 days from receipt. If the customer accumulates at least 10 dollars in purchases during the validity period, the customer completes the offer.\n",
    "\n",
    "However, there are a few things to watch out for in this data set. Customers do not opt into the offers that they receive; in other words, a user can receive an offer, never actually view the offer, and still complete the offer. For example, a user might receive the \"buy 10 dollars get 2 dollars off offer\", but the user never opens the offer during the 10 day validity period. The customer spends 15 dollars during those ten days. There will be an offer completion record in the data set; however, the customer was not influenced by the offer because the customer never viewed the offer.\n",
    "\n",
    "### Cleaning\n",
    "\n",
    "This makes data cleaning especially important and tricky.\n",
    "\n",
    "You'll also want to take into account that some demographic groups will make purchases even if they don't receive an offer. From a business perspective, if a customer is going to make a 10 dollar purchase without an offer anyway, you wouldn't want to send a buy 10 dollars get 2 dollars off offer. You'll want to try to assess what a certain demographic group will buy when not receiving any offers.\n",
    "\n",
    "### Final Advice\n",
    "\n",
    "Because this is a capstone project, you are free to analyze the data any way you see fit. For example, you could build a machine learning model that predicts how much someone will spend based on demographics and offer type. Or you could build a model that predicts whether or not someone will respond to an offer. Or, you don't need to build a machine learning model at all. You could develop a set of heuristics that determine what offer you should send to each customer (i.e., 75 percent of women customers who were 35 years old responded to offer A vs 40 percent from the same demographic to offer B, so send offer A)."
   ]
  },
  {
   "cell_type": "markdown",
   "metadata": {},
   "source": [
    "# Data Sets\n",
    "\n",
    "The data is contained in three files:\n",
    "\n",
    "* portfolio.json - containing offer ids and meta data about each offer (duration, type, etc.)\n",
    "* profile.json - demographic data for each customer\n",
    "* transcript.json - records for transactions, offers received, offers viewed, and offers completed\n",
    "\n",
    "Here is the schema and explanation of each variable in the files:\n",
    "\n",
    "**portfolio.json**\n",
    "* id (string) - offer id\n",
    "* offer_type (string) - type of offer ie BOGO, discount, informational\n",
    "* difficulty (int) - minimum required spend to complete an offer\n",
    "* reward (int) - reward given for completing an offer\n",
    "* duration (int) - time for offer to be open, in days\n",
    "* channels (list of strings)\n",
    "\n",
    "**profile.json**\n",
    "* age (int) - age of the customer \n",
    "* became_member_on (int) - date when customer created an app account\n",
    "* gender (str) - gender of the customer (note some entries contain 'O' for other rather than M or F)\n",
    "* id (str) - customer id\n",
    "* income (float) - customer's income\n",
    "\n",
    "**transcript.json**\n",
    "* event (str) - record description (ie transaction, offer received, offer viewed, etc.)\n",
    "* person (str) - customer id\n",
    "* time (int) - time in hours since start of test. The data begins at time t=0\n",
    "* value - (dict of strings) - either an offer id or transaction amount depending on the record\n",
    "\n",
    "**Note:** If you are using the workspace, you will need to go to the terminal and run the command `conda update pandas` before reading in the files. This is because the version of pandas in the workspace cannot read in the transcript.json file correctly, but the newest version of pandas can. You can access the termnal from the orange icon in the top left of this notebook.  \n",
    "\n",
    "You can see how to access the terminal and how the install works using the two images below.  First you need to access the terminal:\n",
    "\n",
    "<img src=\"pic1.png\"/>\n",
    "\n",
    "Then you will want to run the above command:\n",
    "\n",
    "<img src=\"pic2.png\"/>\n",
    "\n",
    "Finally, when you enter back into the notebook (use the jupyter icon again), you should be able to run the below cell without any errors."
   ]
  },
  {
   "cell_type": "markdown",
   "metadata": {},
   "source": [
    "### Load the Data"
   ]
  },
  {
   "cell_type": "code",
   "execution_count": 9,
   "metadata": {},
   "outputs": [],
   "source": [
    "import pandas as pd\n",
    "import numpy as np\n",
    "import math\n",
    "import json\n",
    "from pandas.io.json import json_normalize\n",
    "import matplotlib.pyplot as plt\n",
    "% matplotlib inline\n",
    "\n",
    "# read in the json files\n",
    "portfolio = pd.read_json('data/portfolio.json', orient='records', lines=True)\n",
    "profile = pd.read_json('data/profile.json', orient='records', lines=True)\n",
    "transcript = pd.read_json('data/transcript.json', orient='records', lines=True)"
   ]
  },
  {
   "cell_type": "markdown",
   "metadata": {},
   "source": [
    "### Data Exploration"
   ]
  },
  {
   "cell_type": "markdown",
   "metadata": {},
   "source": [
    "#### Portfolio \n",
    "10 offers, 6 columns (channels, difficulty, duration, id, offer_type, reward)"
   ]
  },
  {
   "cell_type": "code",
   "execution_count": 10,
   "metadata": {
    "scrolled": false
   },
   "outputs": [],
   "source": [
    "#portfolio"
   ]
  },
  {
   "cell_type": "code",
   "execution_count": 11,
   "metadata": {},
   "outputs": [],
   "source": [
    "#portfolio.info()"
   ]
  },
  {
   "cell_type": "markdown",
   "metadata": {},
   "source": [
    "#### Profile\n",
    "17,000 users, 5 columns (age, became_member_on, gender, id, income)"
   ]
  },
  {
   "cell_type": "code",
   "execution_count": 12,
   "metadata": {},
   "outputs": [],
   "source": [
    "#profile.head()"
   ]
  },
  {
   "cell_type": "code",
   "execution_count": 13,
   "metadata": {},
   "outputs": [],
   "source": [
    "#profile.info()"
   ]
  },
  {
   "cell_type": "markdown",
   "metadata": {},
   "source": [
    "#### Transcript\n",
    "306,534 events, 4 columns (event, person, time, value)"
   ]
  },
  {
   "cell_type": "code",
   "execution_count": 14,
   "metadata": {},
   "outputs": [],
   "source": [
    "#transcript.head()"
   ]
  },
  {
   "cell_type": "code",
   "execution_count": 15,
   "metadata": {},
   "outputs": [],
   "source": [
    "#transcript.info()"
   ]
  },
  {
   "cell_type": "markdown",
   "metadata": {},
   "source": [
    "Portfolio and Transcript have no null values.\n",
    "Profile has 2175 null values for both gender and income. \n",
    "Missing ages for profile are encoded as 118, and there are also 2175 such values.\n",
    "Upon further examination, these same users are missing all three values."
   ]
  },
  {
   "cell_type": "code",
   "execution_count": 16,
   "metadata": {},
   "outputs": [],
   "source": [
    "no_demo_users = profile.loc[profile['age'] == 118].id.values"
   ]
  },
  {
   "cell_type": "markdown",
   "metadata": {},
   "source": [
    "#### Gender Distribution\n",
    "There are 2175 null values for age. \n",
    "Of the customers with demographic information, they are about 57% Male, 41% Female, and 1.4% Other"
   ]
  },
  {
   "cell_type": "code",
   "execution_count": 17,
   "metadata": {
    "scrolled": true
   },
   "outputs": [
    {
     "data": {
      "image/png": "[encoded data removed]",
      "text/plain": [
       "<matplotlib.figure.Figure at 0x7fd5a8b0a160>"
      ]
     },
     "metadata": {
      "needs_background": "light"
     },
     "output_type": "display_data"
    }
   ],
   "source": [
    "profile['gender'].hist();"
   ]
  },
  {
   "cell_type": "code",
   "execution_count": 18,
   "metadata": {},
   "outputs": [
    {
     "data": {
      "text/plain": [
       "M    8484\n",
       "F    6129\n",
       "O     212\n",
       "Name: gender, dtype: int64"
      ]
     },
     "execution_count": 18,
     "metadata": {},
     "output_type": "execute_result"
    }
   ],
   "source": [
    "profile['gender'].value_counts()"
   ]
  },
  {
   "cell_type": "markdown",
   "metadata": {},
   "source": [
    "#### Income distribution\n",
    "Mean income is around \\\\$65405. \n",
    "Median income is \\\\$64000. \n",
    "There are 2175 null values for income. \n",
    "Income is skewed right.\n"
   ]
  },
  {
   "cell_type": "code",
   "execution_count": 19,
   "metadata": {},
   "outputs": [
    {
     "data": {
      "image/png": "[encoded data removed]",
      "text/plain": [
       "<matplotlib.figure.Figure at 0x7fd5a8b0a710>"
      ]
     },
     "metadata": {
      "needs_background": "light"
     },
     "output_type": "display_data"
    }
   ],
   "source": [
    "profile['income'].hist();"
   ]
  },
  {
   "cell_type": "code",
   "execution_count": 20,
   "metadata": {},
   "outputs": [
    {
     "data": {
      "text/plain": [
       "count     14825.000000\n",
       "mean      65404.991568\n",
       "std       21598.299410\n",
       "min       30000.000000\n",
       "25%       49000.000000\n",
       "50%       64000.000000\n",
       "75%       80000.000000\n",
       "max      120000.000000\n",
       "Name: income, dtype: float64"
      ]
     },
     "execution_count": 20,
     "metadata": {},
     "output_type": "execute_result"
    }
   ],
   "source": [
    "profile['income'].describe()"
   ]
  },
  {
   "cell_type": "markdown",
   "metadata": {},
   "source": [
    "#### Age distribution\n",
    "Mean age is about 62 years of age with a median age of 58 years. \n",
    "The mean age is skewed because users without an age value are encoded as 118. \n",
    "There are 2175 such users. \n",
    "If we remove these, there is a fairly normal distribution of ages. \n",
    "This gives a mean age of about 54 years and a median age of about 55 years. "
   ]
  },
  {
   "cell_type": "code",
   "execution_count": 21,
   "metadata": {
    "scrolled": true
   },
   "outputs": [
    {
     "data": {
      "image/png": "[encoded data removed]",
      "text/plain": [
       "<matplotlib.figure.Figure at 0x7fd5a4105048>"
      ]
     },
     "metadata": {
      "needs_background": "light"
     },
     "output_type": "display_data"
    }
   ],
   "source": [
    "profile['age'].hist();"
   ]
  },
  {
   "cell_type": "code",
   "execution_count": 22,
   "metadata": {},
   "outputs": [
    {
     "data": {
      "text/plain": [
       "count    17000.000000\n",
       "mean        62.531412\n",
       "std         26.738580\n",
       "min         18.000000\n",
       "25%         45.000000\n",
       "50%         58.000000\n",
       "75%         73.000000\n",
       "max        118.000000\n",
       "Name: age, dtype: float64"
      ]
     },
     "execution_count": 22,
     "metadata": {},
     "output_type": "execute_result"
    }
   ],
   "source": [
    "profile['age'].describe()"
   ]
  },
  {
   "cell_type": "markdown",
   "metadata": {},
   "source": [
    "Age distribution excluding null values encoded as 118."
   ]
  },
  {
   "cell_type": "code",
   "execution_count": 23,
   "metadata": {
    "scrolled": true
   },
   "outputs": [
    {
     "data": {
      "image/png": "[encoded data removed]",
      "text/plain": [
       "<matplotlib.figure.Figure at 0x7fd5a8b0a0f0>"
      ]
     },
     "metadata": {
      "needs_background": "light"
     },
     "output_type": "display_data"
    }
   ],
   "source": [
    "profile_age_clean = profile[profile['age'] < 118]['age']\n",
    "profile_age_clean.hist();"
   ]
  },
  {
   "cell_type": "code",
   "execution_count": 24,
   "metadata": {},
   "outputs": [
    {
     "data": {
      "text/plain": [
       "count    14825.000000\n",
       "mean        54.393524\n",
       "std         17.383705\n",
       "min         18.000000\n",
       "25%         42.000000\n",
       "50%         55.000000\n",
       "75%         66.000000\n",
       "max        101.000000\n",
       "Name: age, dtype: float64"
      ]
     },
     "execution_count": 24,
     "metadata": {},
     "output_type": "execute_result"
    }
   ],
   "source": [
    "profile_age_clean.describe()"
   ]
  },
  {
   "cell_type": "markdown",
   "metadata": {},
   "source": [
    "#### Event distribution"
   ]
  },
  {
   "cell_type": "markdown",
   "metadata": {},
   "source": [
    "This creates a dataframe which shows the counts of each event type for each user. There are 17000 total users in this dataframe.\n",
    "* Sort the transcript dataframe by person.\n",
    "* Get the unique event types.\n",
    "* Create new dataframe with each unique person value as the index.\n",
    "* For each event type: \n",
    "    * Create a dataframe of events of that event type and set person as index.\n",
    "    * Set the event_name as the column name.\n",
    "    * Replace the event_name value with 1.\n",
    "    * Create a new dataframe with the count of the event type for each person.\n",
    "    * Join the dataframe to the event_count_df.\n",
    "* Fill nulls with 0.\n",
    "* Return the new dataframe."
   ]
  },
  {
   "cell_type": "code",
   "execution_count": 25,
   "metadata": {},
   "outputs": [],
   "source": [
    "def create_events_df(df=transcript): \n",
    "    '''\n",
    "    Description: Takes in the transcript dataframe and creates a new dataframe\n",
    "    with a count of each event type for each person.\n",
    "    \n",
    "    Input:\n",
    "    df - pandas dataframe, defaulted to transcript, the dataframe to convert\n",
    "    \n",
    "    Output:\n",
    "    event_count_df - pandas, dataframe, contains counts of events for each person\n",
    "    '''\n",
    "    df.sort_values(by='person', inplace=True)\n",
    "    events = df.event.unique()\n",
    "    event_count_df = pd.DataFrame(index = transcript['person'].unique())\n",
    "    for event_name in events: \n",
    "        event_df = df[df['event'] == event_name].set_index(['person'])\n",
    "        event_df.rename(columns={'event': event_name}, inplace=True)\n",
    "        event_df.replace(event_name, 1, inplace=True)\n",
    "        event_df = pd.DataFrame(event_df.groupby('person')[event_name].count())     \n",
    "        event_count_df = event_count_df.join(event_df)\n",
    "        \n",
    "    event_count_df.fillna(0, inplace=True)\n",
    "        \n",
    "    return event_count_df"
   ]
  },
  {
   "cell_type": "code",
   "execution_count": 26,
   "metadata": {},
   "outputs": [],
   "source": [
    "event_count_df = create_events_df()"
   ]
  },
  {
   "cell_type": "markdown",
   "metadata": {},
   "source": [
    "##### All Customers"
   ]
  },
  {
   "cell_type": "code",
   "execution_count": 27,
   "metadata": {},
   "outputs": [
    {
     "data": {
      "image/png": "[encoded data removed]",
      "text/plain": [
       "<matplotlib.figure.Figure at 0x7fd5a40757b8>"
      ]
     },
     "metadata": {
      "needs_background": "light"
     },
     "output_type": "display_data"
    }
   ],
   "source": [
    "event_count_df.hist(figsize=(10,10));"
   ]
  },
  {
   "cell_type": "code",
   "execution_count": 28,
   "metadata": {
    "scrolled": false
   },
   "outputs": [
    {
     "data": {
      "text/html": [
       "<div>\n",
       "<style scoped>\n",
       "    .dataframe tbody tr th:only-of-type {\n",
       "        vertical-align: middle;\n",
       "    }\n",
       "\n",
       "    .dataframe tbody tr th {\n",
       "        vertical-align: top;\n",
       "    }\n",
       "\n",
       "    .dataframe thead th {\n",
       "        text-align: right;\n",
       "    }\n",
       "</style>\n",
       "<table border=\"1\" class=\"dataframe\">\n",
       "  <thead>\n",
       "    <tr style=\"text-align: right;\">\n",
       "      <th></th>\n",
       "      <th>transaction</th>\n",
       "      <th>offer received</th>\n",
       "      <th>offer viewed</th>\n",
       "      <th>offer completed</th>\n",
       "    </tr>\n",
       "  </thead>\n",
       "  <tbody>\n",
       "    <tr>\n",
       "      <th>count</th>\n",
       "      <td>17000.000000</td>\n",
       "      <td>17000.000000</td>\n",
       "      <td>17000.000000</td>\n",
       "      <td>17000.000000</td>\n",
       "    </tr>\n",
       "    <tr>\n",
       "      <th>mean</th>\n",
       "      <td>8.173706</td>\n",
       "      <td>4.486882</td>\n",
       "      <td>3.395588</td>\n",
       "      <td>1.975235</td>\n",
       "    </tr>\n",
       "    <tr>\n",
       "      <th>std</th>\n",
       "      <td>5.116250</td>\n",
       "      <td>1.076165</td>\n",
       "      <td>1.297653</td>\n",
       "      <td>1.605563</td>\n",
       "    </tr>\n",
       "    <tr>\n",
       "      <th>min</th>\n",
       "      <td>0.000000</td>\n",
       "      <td>0.000000</td>\n",
       "      <td>0.000000</td>\n",
       "      <td>0.000000</td>\n",
       "    </tr>\n",
       "    <tr>\n",
       "      <th>25%</th>\n",
       "      <td>4.000000</td>\n",
       "      <td>4.000000</td>\n",
       "      <td>2.750000</td>\n",
       "      <td>1.000000</td>\n",
       "    </tr>\n",
       "    <tr>\n",
       "      <th>50%</th>\n",
       "      <td>7.000000</td>\n",
       "      <td>5.000000</td>\n",
       "      <td>3.000000</td>\n",
       "      <td>2.000000</td>\n",
       "    </tr>\n",
       "    <tr>\n",
       "      <th>75%</th>\n",
       "      <td>11.000000</td>\n",
       "      <td>5.000000</td>\n",
       "      <td>4.000000</td>\n",
       "      <td>3.000000</td>\n",
       "    </tr>\n",
       "    <tr>\n",
       "      <th>max</th>\n",
       "      <td>36.000000</td>\n",
       "      <td>6.000000</td>\n",
       "      <td>6.000000</td>\n",
       "      <td>6.000000</td>\n",
       "    </tr>\n",
       "  </tbody>\n",
       "</table>\n",
       "</div>"
      ],
      "text/plain": [
       "        transaction  offer received  offer viewed  offer completed\n",
       "count  17000.000000    17000.000000  17000.000000     17000.000000\n",
       "mean       8.173706        4.486882      3.395588         1.975235\n",
       "std        5.116250        1.076165      1.297653         1.605563\n",
       "min        0.000000        0.000000      0.000000         0.000000\n",
       "25%        4.000000        4.000000      2.750000         1.000000\n",
       "50%        7.000000        5.000000      3.000000         2.000000\n",
       "75%       11.000000        5.000000      4.000000         3.000000\n",
       "max       36.000000        6.000000      6.000000         6.000000"
      ]
     },
     "execution_count": 28,
     "metadata": {},
     "output_type": "execute_result"
    }
   ],
   "source": [
    "event_count_df.describe()"
   ]
  },
  {
   "cell_type": "markdown",
   "metadata": {},
   "source": [
    "##### Customers Without Demographic Information"
   ]
  },
  {
   "cell_type": "code",
   "execution_count": 30,
   "metadata": {},
   "outputs": [
    {
     "data": {
      "image/png": "[encoded data removed]",
      "text/plain": [
       "<matplotlib.figure.Figure at 0x7fd5a3ece208>"
      ]
     },
     "metadata": {
      "needs_background": "light"
     },
     "output_type": "display_data"
    }
   ],
   "source": [
    "event_count_df.loc[no_demo_users].hist(figsize=(10,10));"
   ]
  },
  {
   "cell_type": "code",
   "execution_count": 31,
   "metadata": {},
   "outputs": [
    {
     "data": {
      "text/html": [
       "<div>\n",
       "<style scoped>\n",
       "    .dataframe tbody tr th:only-of-type {\n",
       "        vertical-align: middle;\n",
       "    }\n",
       "\n",
       "    .dataframe tbody tr th {\n",
       "        vertical-align: top;\n",
       "    }\n",
       "\n",
       "    .dataframe thead th {\n",
       "        text-align: right;\n",
       "    }\n",
       "</style>\n",
       "<table border=\"1\" class=\"dataframe\">\n",
       "  <thead>\n",
       "    <tr style=\"text-align: right;\">\n",
       "      <th></th>\n",
       "      <th>transaction</th>\n",
       "      <th>offer received</th>\n",
       "      <th>offer viewed</th>\n",
       "      <th>offer completed</th>\n",
       "    </tr>\n",
       "  </thead>\n",
       "  <tbody>\n",
       "    <tr>\n",
       "      <th>count</th>\n",
       "      <td>2175.000000</td>\n",
       "      <td>2175.000000</td>\n",
       "      <td>2175.000000</td>\n",
       "      <td>2175.000000</td>\n",
       "    </tr>\n",
       "    <tr>\n",
       "      <th>mean</th>\n",
       "      <td>6.894713</td>\n",
       "      <td>4.494713</td>\n",
       "      <td>3.616092</td>\n",
       "      <td>0.521839</td>\n",
       "    </tr>\n",
       "    <tr>\n",
       "      <th>std</th>\n",
       "      <td>4.432510</td>\n",
       "      <td>1.086356</td>\n",
       "      <td>1.319383</td>\n",
       "      <td>0.814630</td>\n",
       "    </tr>\n",
       "    <tr>\n",
       "      <th>min</th>\n",
       "      <td>0.000000</td>\n",
       "      <td>0.000000</td>\n",
       "      <td>0.000000</td>\n",
       "      <td>0.000000</td>\n",
       "    </tr>\n",
       "    <tr>\n",
       "      <th>25%</th>\n",
       "      <td>4.000000</td>\n",
       "      <td>4.000000</td>\n",
       "      <td>3.000000</td>\n",
       "      <td>0.000000</td>\n",
       "    </tr>\n",
       "    <tr>\n",
       "      <th>50%</th>\n",
       "      <td>6.000000</td>\n",
       "      <td>5.000000</td>\n",
       "      <td>4.000000</td>\n",
       "      <td>0.000000</td>\n",
       "    </tr>\n",
       "    <tr>\n",
       "      <th>75%</th>\n",
       "      <td>10.000000</td>\n",
       "      <td>5.000000</td>\n",
       "      <td>5.000000</td>\n",
       "      <td>1.000000</td>\n",
       "    </tr>\n",
       "    <tr>\n",
       "      <th>max</th>\n",
       "      <td>25.000000</td>\n",
       "      <td>6.000000</td>\n",
       "      <td>6.000000</td>\n",
       "      <td>5.000000</td>\n",
       "    </tr>\n",
       "  </tbody>\n",
       "</table>\n",
       "</div>"
      ],
      "text/plain": [
       "       transaction  offer received  offer viewed  offer completed\n",
       "count  2175.000000     2175.000000   2175.000000      2175.000000\n",
       "mean      6.894713        4.494713      3.616092         0.521839\n",
       "std       4.432510        1.086356      1.319383         0.814630\n",
       "min       0.000000        0.000000      0.000000         0.000000\n",
       "25%       4.000000        4.000000      3.000000         0.000000\n",
       "50%       6.000000        5.000000      4.000000         0.000000\n",
       "75%      10.000000        5.000000      5.000000         1.000000\n",
       "max      25.000000        6.000000      6.000000         5.000000"
      ]
     },
     "execution_count": 31,
     "metadata": {},
     "output_type": "execute_result"
    }
   ],
   "source": [
    "event_count_df.loc[no_demo_users].describe()"
   ]
  },
  {
   "cell_type": "markdown",
   "metadata": {},
   "source": [
    "##### Customers With Demographic Information"
   ]
  },
  {
   "cell_type": "code",
   "execution_count": 32,
   "metadata": {},
   "outputs": [
    {
     "data": {
      "image/png": "[encoded data removed]",
      "text/plain": [
       "<matplotlib.figure.Figure at 0x7fd5a3e44550>"
      ]
     },
     "metadata": {
      "needs_background": "light"
     },
     "output_type": "display_data"
    }
   ],
   "source": [
    "event_count_df.loc[~event_count_df.index.isin(no_demo_users)].hist(figsize=(10,10));"
   ]
  },
  {
   "cell_type": "code",
   "execution_count": 33,
   "metadata": {
    "scrolled": false
   },
   "outputs": [
    {
     "data": {
      "text/html": [
       "<div>\n",
       "<style scoped>\n",
       "    .dataframe tbody tr th:only-of-type {\n",
       "        vertical-align: middle;\n",
       "    }\n",
       "\n",
       "    .dataframe tbody tr th {\n",
       "        vertical-align: top;\n",
       "    }\n",
       "\n",
       "    .dataframe thead th {\n",
       "        text-align: right;\n",
       "    }\n",
       "</style>\n",
       "<table border=\"1\" class=\"dataframe\">\n",
       "  <thead>\n",
       "    <tr style=\"text-align: right;\">\n",
       "      <th></th>\n",
       "      <th>transaction</th>\n",
       "      <th>offer received</th>\n",
       "      <th>offer viewed</th>\n",
       "      <th>offer completed</th>\n",
       "    </tr>\n",
       "  </thead>\n",
       "  <tbody>\n",
       "    <tr>\n",
       "      <th>count</th>\n",
       "      <td>14825.000000</td>\n",
       "      <td>14825.000000</td>\n",
       "      <td>14825.000000</td>\n",
       "      <td>14825.000000</td>\n",
       "    </tr>\n",
       "    <tr>\n",
       "      <th>mean</th>\n",
       "      <td>8.361349</td>\n",
       "      <td>4.485734</td>\n",
       "      <td>3.363238</td>\n",
       "      <td>2.188465</td>\n",
       "    </tr>\n",
       "    <tr>\n",
       "      <th>std</th>\n",
       "      <td>5.182667</td>\n",
       "      <td>1.074694</td>\n",
       "      <td>1.291316</td>\n",
       "      <td>1.582193</td>\n",
       "    </tr>\n",
       "    <tr>\n",
       "      <th>min</th>\n",
       "      <td>0.000000</td>\n",
       "      <td>0.000000</td>\n",
       "      <td>0.000000</td>\n",
       "      <td>0.000000</td>\n",
       "    </tr>\n",
       "    <tr>\n",
       "      <th>25%</th>\n",
       "      <td>4.000000</td>\n",
       "      <td>4.000000</td>\n",
       "      <td>2.000000</td>\n",
       "      <td>1.000000</td>\n",
       "    </tr>\n",
       "    <tr>\n",
       "      <th>50%</th>\n",
       "      <td>7.000000</td>\n",
       "      <td>5.000000</td>\n",
       "      <td>3.000000</td>\n",
       "      <td>2.000000</td>\n",
       "    </tr>\n",
       "    <tr>\n",
       "      <th>75%</th>\n",
       "      <td>11.000000</td>\n",
       "      <td>5.000000</td>\n",
       "      <td>4.000000</td>\n",
       "      <td>3.000000</td>\n",
       "    </tr>\n",
       "    <tr>\n",
       "      <th>max</th>\n",
       "      <td>36.000000</td>\n",
       "      <td>6.000000</td>\n",
       "      <td>6.000000</td>\n",
       "      <td>6.000000</td>\n",
       "    </tr>\n",
       "  </tbody>\n",
       "</table>\n",
       "</div>"
      ],
      "text/plain": [
       "        transaction  offer received  offer viewed  offer completed\n",
       "count  14825.000000    14825.000000  14825.000000     14825.000000\n",
       "mean       8.361349        4.485734      3.363238         2.188465\n",
       "std        5.182667        1.074694      1.291316         1.582193\n",
       "min        0.000000        0.000000      0.000000         0.000000\n",
       "25%        4.000000        4.000000      2.000000         1.000000\n",
       "50%        7.000000        5.000000      3.000000         2.000000\n",
       "75%       11.000000        5.000000      4.000000         3.000000\n",
       "max       36.000000        6.000000      6.000000         6.000000"
      ]
     },
     "execution_count": 33,
     "metadata": {},
     "output_type": "execute_result"
    }
   ],
   "source": [
    "event_count_df.loc[~event_count_df.index.isin(no_demo_users)].describe()"
   ]
  },
  {
   "cell_type": "markdown",
   "metadata": {},
   "source": [
    "The customers with demographic information have a nearly identical distribution of events to the full dataset. Looking at the customers with no demographic information, the distribution for each event is also about the same as the full dataset. "
   ]
  },
  {
   "cell_type": "markdown",
   "metadata": {},
   "source": [
    "### Data Cleaning"
   ]
  },
  {
   "cell_type": "markdown",
   "metadata": {},
   "source": [
    "#### Event Details\n",
    "Details for each event occurring during the test period. \n",
    "* From the transcript dataframe, sort values by person and time and reset the index.\n",
    "* Break out the value column in transcript to retrieve offer id, transaction amount, and reward amounts.\n",
    "* Concatenate event value details and drop original values column.\n",
    "* Fill nulls with 0\n",
    "* Merge 'offer id' and 'offer_id' columns.\n",
    "    * Fill 'offer id' nulls with values from 'offer_id'\n",
    "    * Drop 'offer_id column\n",
    "* Join portfolio dataframe to event_detail_df on 'offer id' to add offer details."
   ]
  },
  {
   "cell_type": "code",
   "execution_count": 37,
   "metadata": {},
   "outputs": [],
   "source": [
    "event_values_df = transcript.sort_values(by=['person', 'time']).reset_index(drop=True)"
   ]
  },
  {
   "cell_type": "code",
   "execution_count": 38,
   "metadata": {},
   "outputs": [],
   "source": [
    "event_values_df_split = json_normalize(event_values_df['value'])"
   ]
  },
  {
   "cell_type": "code",
   "execution_count": 39,
   "metadata": {
    "scrolled": true
   },
   "outputs": [],
   "source": [
    "event_detail_df = pd.concat([event_values_df, event_values_df_split], axis=1).drop('value', axis=1)\n",
    "event_detail_df['reward'].fillna(0, inplace=True)\n",
    "event_detail_df['amount'].fillna(0, inplace=True)\n",
    "event_detail_df['offer id'].fillna(event_detail_df['offer_id'], inplace=True)\n",
    "event_detail_df.drop('offer_id', axis=1, inplace=True)"
   ]
  },
  {
   "cell_type": "code",
   "execution_count": 40,
   "metadata": {},
   "outputs": [
    {
     "data": {
      "text/html": [
       "<div>\n",
       "<style scoped>\n",
       "    .dataframe tbody tr th:only-of-type {\n",
       "        vertical-align: middle;\n",
       "    }\n",
       "\n",
       "    .dataframe tbody tr th {\n",
       "        vertical-align: top;\n",
       "    }\n",
       "\n",
       "    .dataframe thead th {\n",
       "        text-align: right;\n",
       "    }\n",
       "</style>\n",
       "<table border=\"1\" class=\"dataframe\">\n",
       "  <thead>\n",
       "    <tr style=\"text-align: right;\">\n",
       "      <th></th>\n",
       "      <th>event</th>\n",
       "      <th>person</th>\n",
       "      <th>time</th>\n",
       "      <th>amount</th>\n",
       "      <th>offer id</th>\n",
       "      <th>reward</th>\n",
       "      <th>channels</th>\n",
       "      <th>difficulty</th>\n",
       "      <th>duration</th>\n",
       "      <th>offer_type</th>\n",
       "      <th>reward_offer</th>\n",
       "    </tr>\n",
       "  </thead>\n",
       "  <tbody>\n",
       "    <tr>\n",
       "      <th>0</th>\n",
       "      <td>offer received</td>\n",
       "      <td>0009655768c64bdeb2e877511632db8f</td>\n",
       "      <td>168</td>\n",
       "      <td>0.00</td>\n",
       "      <td>5a8bc65990b245e5a138643cd4eb9837</td>\n",
       "      <td>0.0</td>\n",
       "      <td>[email, mobile, social]</td>\n",
       "      <td>0.0</td>\n",
       "      <td>3.0</td>\n",
       "      <td>informational</td>\n",
       "      <td>0.0</td>\n",
       "    </tr>\n",
       "    <tr>\n",
       "      <th>1</th>\n",
       "      <td>offer viewed</td>\n",
       "      <td>0009655768c64bdeb2e877511632db8f</td>\n",
       "      <td>192</td>\n",
       "      <td>0.00</td>\n",
       "      <td>5a8bc65990b245e5a138643cd4eb9837</td>\n",
       "      <td>0.0</td>\n",
       "      <td>[email, mobile, social]</td>\n",
       "      <td>0.0</td>\n",
       "      <td>3.0</td>\n",
       "      <td>informational</td>\n",
       "      <td>0.0</td>\n",
       "    </tr>\n",
       "    <tr>\n",
       "      <th>2</th>\n",
       "      <td>transaction</td>\n",
       "      <td>0009655768c64bdeb2e877511632db8f</td>\n",
       "      <td>228</td>\n",
       "      <td>22.16</td>\n",
       "      <td>NaN</td>\n",
       "      <td>0.0</td>\n",
       "      <td>NaN</td>\n",
       "      <td>NaN</td>\n",
       "      <td>NaN</td>\n",
       "      <td>NaN</td>\n",
       "      <td>NaN</td>\n",
       "    </tr>\n",
       "    <tr>\n",
       "      <th>3</th>\n",
       "      <td>offer received</td>\n",
       "      <td>0009655768c64bdeb2e877511632db8f</td>\n",
       "      <td>336</td>\n",
       "      <td>0.00</td>\n",
       "      <td>3f207df678b143eea3cee63160fa8bed</td>\n",
       "      <td>0.0</td>\n",
       "      <td>[web, email, mobile]</td>\n",
       "      <td>0.0</td>\n",
       "      <td>4.0</td>\n",
       "      <td>informational</td>\n",
       "      <td>0.0</td>\n",
       "    </tr>\n",
       "    <tr>\n",
       "      <th>4</th>\n",
       "      <td>offer viewed</td>\n",
       "      <td>0009655768c64bdeb2e877511632db8f</td>\n",
       "      <td>372</td>\n",
       "      <td>0.00</td>\n",
       "      <td>3f207df678b143eea3cee63160fa8bed</td>\n",
       "      <td>0.0</td>\n",
       "      <td>[web, email, mobile]</td>\n",
       "      <td>0.0</td>\n",
       "      <td>4.0</td>\n",
       "      <td>informational</td>\n",
       "      <td>0.0</td>\n",
       "    </tr>\n",
       "  </tbody>\n",
       "</table>\n",
       "</div>"
      ],
      "text/plain": [
       "            event                            person  time  amount  \\\n",
       "0  offer received  0009655768c64bdeb2e877511632db8f   168    0.00   \n",
       "1    offer viewed  0009655768c64bdeb2e877511632db8f   192    0.00   \n",
       "2     transaction  0009655768c64bdeb2e877511632db8f   228   22.16   \n",
       "3  offer received  0009655768c64bdeb2e877511632db8f   336    0.00   \n",
       "4    offer viewed  0009655768c64bdeb2e877511632db8f   372    0.00   \n",
       "\n",
       "                           offer id  reward                 channels  \\\n",
       "0  5a8bc65990b245e5a138643cd4eb9837     0.0  [email, mobile, social]   \n",
       "1  5a8bc65990b245e5a138643cd4eb9837     0.0  [email, mobile, social]   \n",
       "2                               NaN     0.0                      NaN   \n",
       "3  3f207df678b143eea3cee63160fa8bed     0.0     [web, email, mobile]   \n",
       "4  3f207df678b143eea3cee63160fa8bed     0.0     [web, email, mobile]   \n",
       "\n",
       "   difficulty  duration     offer_type  reward_offer  \n",
       "0         0.0       3.0  informational           0.0  \n",
       "1         0.0       3.0  informational           0.0  \n",
       "2         NaN       NaN            NaN           NaN  \n",
       "3         0.0       4.0  informational           0.0  \n",
       "4         0.0       4.0  informational           0.0  "
      ]
     },
     "execution_count": 40,
     "metadata": {},
     "output_type": "execute_result"
    }
   ],
   "source": [
    "event_detail_df = event_detail_df.join(portfolio.set_index(['id']), how='left', on='offer id', rsuffix='_offer')\n",
    "event_detail_df.head()"
   ]
  },
  {
   "cell_type": "markdown",
   "metadata": {},
   "source": [
    "#### Event Counts\n",
    "Counts for each event type for each user. \n",
    "* Sum total amount spent per person (profit) and total reward received per person (loss)\n",
    "* Set profit column to sum of amount column\n",
    "* Set loss to sum of reward column"
   ]
  },
  {
   "cell_type": "code",
   "execution_count": 41,
   "metadata": {},
   "outputs": [],
   "source": [
    "event_df_totals = event_detail_df.groupby(by=['person']).sum()"
   ]
  },
  {
   "cell_type": "code",
   "execution_count": 42,
   "metadata": {
    "scrolled": true
   },
   "outputs": [
    {
     "data": {
      "text/html": [
       "<div>\n",
       "<style scoped>\n",
       "    .dataframe tbody tr th:only-of-type {\n",
       "        vertical-align: middle;\n",
       "    }\n",
       "\n",
       "    .dataframe tbody tr th {\n",
       "        vertical-align: top;\n",
       "    }\n",
       "\n",
       "    .dataframe thead th {\n",
       "        text-align: right;\n",
       "    }\n",
       "</style>\n",
       "<table border=\"1\" class=\"dataframe\">\n",
       "  <thead>\n",
       "    <tr style=\"text-align: right;\">\n",
       "      <th></th>\n",
       "      <th>transaction</th>\n",
       "      <th>offer received</th>\n",
       "      <th>offer viewed</th>\n",
       "      <th>offer completed</th>\n",
       "      <th>profit</th>\n",
       "      <th>loss</th>\n",
       "    </tr>\n",
       "  </thead>\n",
       "  <tbody>\n",
       "    <tr>\n",
       "      <th>0009655768c64bdeb2e877511632db8f</th>\n",
       "      <td>8.0</td>\n",
       "      <td>5.0</td>\n",
       "      <td>4.0</td>\n",
       "      <td>3.0</td>\n",
       "      <td>127.60</td>\n",
       "      <td>9.0</td>\n",
       "    </tr>\n",
       "    <tr>\n",
       "      <th>00116118485d4dfda04fdbaba9a87b5c</th>\n",
       "      <td>3.0</td>\n",
       "      <td>2.0</td>\n",
       "      <td>2.0</td>\n",
       "      <td>0.0</td>\n",
       "      <td>4.09</td>\n",
       "      <td>0.0</td>\n",
       "    </tr>\n",
       "    <tr>\n",
       "      <th>0011e0d4e6b944f998e987f904e8c1e5</th>\n",
       "      <td>5.0</td>\n",
       "      <td>5.0</td>\n",
       "      <td>5.0</td>\n",
       "      <td>3.0</td>\n",
       "      <td>79.46</td>\n",
       "      <td>13.0</td>\n",
       "    </tr>\n",
       "    <tr>\n",
       "      <th>0020c2b971eb4e9188eac86d93036a77</th>\n",
       "      <td>8.0</td>\n",
       "      <td>5.0</td>\n",
       "      <td>3.0</td>\n",
       "      <td>3.0</td>\n",
       "      <td>196.86</td>\n",
       "      <td>14.0</td>\n",
       "    </tr>\n",
       "    <tr>\n",
       "      <th>0020ccbbb6d84e358d3414a3ff76cffd</th>\n",
       "      <td>12.0</td>\n",
       "      <td>4.0</td>\n",
       "      <td>4.0</td>\n",
       "      <td>3.0</td>\n",
       "      <td>154.05</td>\n",
       "      <td>13.0</td>\n",
       "    </tr>\n",
       "  </tbody>\n",
       "</table>\n",
       "</div>"
      ],
      "text/plain": [
       "                                  transaction  offer received  offer viewed  \\\n",
       "0009655768c64bdeb2e877511632db8f          8.0             5.0           4.0   \n",
       "00116118485d4dfda04fdbaba9a87b5c          3.0             2.0           2.0   \n",
       "0011e0d4e6b944f998e987f904e8c1e5          5.0             5.0           5.0   \n",
       "0020c2b971eb4e9188eac86d93036a77          8.0             5.0           3.0   \n",
       "0020ccbbb6d84e358d3414a3ff76cffd         12.0             4.0           4.0   \n",
       "\n",
       "                                  offer completed  profit  loss  \n",
       "0009655768c64bdeb2e877511632db8f              3.0  127.60   9.0  \n",
       "00116118485d4dfda04fdbaba9a87b5c              0.0    4.09   0.0  \n",
       "0011e0d4e6b944f998e987f904e8c1e5              3.0   79.46  13.0  \n",
       "0020c2b971eb4e9188eac86d93036a77              3.0  196.86  14.0  \n",
       "0020ccbbb6d84e358d3414a3ff76cffd              3.0  154.05  13.0  "
      ]
     },
     "execution_count": 42,
     "metadata": {},
     "output_type": "execute_result"
    }
   ],
   "source": [
    "event_count_df['profit'] = event_df_totals['amount']\n",
    "event_count_df['loss'] = event_df_totals['reward']\n",
    "event_count_df.head()"
   ]
  },
  {
   "cell_type": "markdown",
   "metadata": {},
   "source": [
    "#### User-Offer Matrix\n",
    "Shows counts of each offer type by user and event type\n",
    "* Group event_detail_df by person, event, and offer_type, get the count of offer_type, and unstack with null values set to 0."
   ]
  },
  {
   "cell_type": "code",
   "execution_count": 43,
   "metadata": {
    "scrolled": true
   },
   "outputs": [
    {
     "data": {
      "text/html": [
       "<div>\n",
       "<style scoped>\n",
       "    .dataframe tbody tr th:only-of-type {\n",
       "        vertical-align: middle;\n",
       "    }\n",
       "\n",
       "    .dataframe tbody tr th {\n",
       "        vertical-align: top;\n",
       "    }\n",
       "\n",
       "    .dataframe thead th {\n",
       "        text-align: right;\n",
       "    }\n",
       "</style>\n",
       "<table border=\"1\" class=\"dataframe\">\n",
       "  <thead>\n",
       "    <tr style=\"text-align: right;\">\n",
       "      <th></th>\n",
       "      <th>offer_type</th>\n",
       "      <th>bogo</th>\n",
       "      <th>discount</th>\n",
       "      <th>informational</th>\n",
       "    </tr>\n",
       "    <tr>\n",
       "      <th>person</th>\n",
       "      <th>event</th>\n",
       "      <th></th>\n",
       "      <th></th>\n",
       "      <th></th>\n",
       "    </tr>\n",
       "  </thead>\n",
       "  <tbody>\n",
       "    <tr>\n",
       "      <th rowspan=\"3\" valign=\"top\">0009655768c64bdeb2e877511632db8f</th>\n",
       "      <th>offer completed</th>\n",
       "      <td>1</td>\n",
       "      <td>2</td>\n",
       "      <td>0</td>\n",
       "    </tr>\n",
       "    <tr>\n",
       "      <th>offer received</th>\n",
       "      <td>1</td>\n",
       "      <td>2</td>\n",
       "      <td>2</td>\n",
       "    </tr>\n",
       "    <tr>\n",
       "      <th>offer viewed</th>\n",
       "      <td>1</td>\n",
       "      <td>1</td>\n",
       "      <td>2</td>\n",
       "    </tr>\n",
       "    <tr>\n",
       "      <th rowspan=\"2\" valign=\"top\">00116118485d4dfda04fdbaba9a87b5c</th>\n",
       "      <th>offer received</th>\n",
       "      <td>2</td>\n",
       "      <td>0</td>\n",
       "      <td>0</td>\n",
       "    </tr>\n",
       "    <tr>\n",
       "      <th>offer viewed</th>\n",
       "      <td>2</td>\n",
       "      <td>0</td>\n",
       "      <td>0</td>\n",
       "    </tr>\n",
       "    <tr>\n",
       "      <th rowspan=\"3\" valign=\"top\">0011e0d4e6b944f998e987f904e8c1e5</th>\n",
       "      <th>offer completed</th>\n",
       "      <td>1</td>\n",
       "      <td>2</td>\n",
       "      <td>0</td>\n",
       "    </tr>\n",
       "    <tr>\n",
       "      <th>offer received</th>\n",
       "      <td>1</td>\n",
       "      <td>2</td>\n",
       "      <td>2</td>\n",
       "    </tr>\n",
       "    <tr>\n",
       "      <th>offer viewed</th>\n",
       "      <td>1</td>\n",
       "      <td>2</td>\n",
       "      <td>2</td>\n",
       "    </tr>\n",
       "    <tr>\n",
       "      <th rowspan=\"3\" valign=\"top\">0020c2b971eb4e9188eac86d93036a77</th>\n",
       "      <th>offer completed</th>\n",
       "      <td>1</td>\n",
       "      <td>2</td>\n",
       "      <td>0</td>\n",
       "    </tr>\n",
       "    <tr>\n",
       "      <th>offer received</th>\n",
       "      <td>2</td>\n",
       "      <td>2</td>\n",
       "      <td>1</td>\n",
       "    </tr>\n",
       "    <tr>\n",
       "      <th>offer viewed</th>\n",
       "      <td>1</td>\n",
       "      <td>1</td>\n",
       "      <td>1</td>\n",
       "    </tr>\n",
       "    <tr>\n",
       "      <th rowspan=\"3\" valign=\"top\">0020ccbbb6d84e358d3414a3ff76cffd</th>\n",
       "      <th>offer completed</th>\n",
       "      <td>2</td>\n",
       "      <td>1</td>\n",
       "      <td>0</td>\n",
       "    </tr>\n",
       "    <tr>\n",
       "      <th>offer received</th>\n",
       "      <td>2</td>\n",
       "      <td>1</td>\n",
       "      <td>1</td>\n",
       "    </tr>\n",
       "    <tr>\n",
       "      <th>offer viewed</th>\n",
       "      <td>2</td>\n",
       "      <td>1</td>\n",
       "      <td>1</td>\n",
       "    </tr>\n",
       "    <tr>\n",
       "      <th rowspan=\"3\" valign=\"top\">003d66b6608740288d6cc97a6903f4f0</th>\n",
       "      <th>offer completed</th>\n",
       "      <td>0</td>\n",
       "      <td>3</td>\n",
       "      <td>0</td>\n",
       "    </tr>\n",
       "    <tr>\n",
       "      <th>offer received</th>\n",
       "      <td>0</td>\n",
       "      <td>3</td>\n",
       "      <td>2</td>\n",
       "    </tr>\n",
       "    <tr>\n",
       "      <th>offer viewed</th>\n",
       "      <td>0</td>\n",
       "      <td>2</td>\n",
       "      <td>2</td>\n",
       "    </tr>\n",
       "    <tr>\n",
       "      <th rowspan=\"3\" valign=\"top\">00426fe3ffde4c6b9cb9ad6d077a13ea</th>\n",
       "      <th>offer completed</th>\n",
       "      <td>0</td>\n",
       "      <td>1</td>\n",
       "      <td>0</td>\n",
       "    </tr>\n",
       "    <tr>\n",
       "      <th>offer received</th>\n",
       "      <td>0</td>\n",
       "      <td>4</td>\n",
       "      <td>1</td>\n",
       "    </tr>\n",
       "    <tr>\n",
       "      <th>offer viewed</th>\n",
       "      <td>0</td>\n",
       "      <td>1</td>\n",
       "      <td>1</td>\n",
       "    </tr>\n",
       "  </tbody>\n",
       "</table>\n",
       "</div>"
      ],
      "text/plain": [
       "offer_type                                        bogo  discount  \\\n",
       "person                           event                             \n",
       "0009655768c64bdeb2e877511632db8f offer completed     1         2   \n",
       "                                 offer received      1         2   \n",
       "                                 offer viewed        1         1   \n",
       "00116118485d4dfda04fdbaba9a87b5c offer received      2         0   \n",
       "                                 offer viewed        2         0   \n",
       "0011e0d4e6b944f998e987f904e8c1e5 offer completed     1         2   \n",
       "                                 offer received      1         2   \n",
       "                                 offer viewed        1         2   \n",
       "0020c2b971eb4e9188eac86d93036a77 offer completed     1         2   \n",
       "                                 offer received      2         2   \n",
       "                                 offer viewed        1         1   \n",
       "0020ccbbb6d84e358d3414a3ff76cffd offer completed     2         1   \n",
       "                                 offer received      2         1   \n",
       "                                 offer viewed        2         1   \n",
       "003d66b6608740288d6cc97a6903f4f0 offer completed     0         3   \n",
       "                                 offer received      0         3   \n",
       "                                 offer viewed        0         2   \n",
       "00426fe3ffde4c6b9cb9ad6d077a13ea offer completed     0         1   \n",
       "                                 offer received      0         4   \n",
       "                                 offer viewed        0         1   \n",
       "\n",
       "offer_type                                        informational  \n",
       "person                           event                           \n",
       "0009655768c64bdeb2e877511632db8f offer completed              0  \n",
       "                                 offer received               2  \n",
       "                                 offer viewed                 2  \n",
       "00116118485d4dfda04fdbaba9a87b5c offer received               0  \n",
       "                                 offer viewed                 0  \n",
       "0011e0d4e6b944f998e987f904e8c1e5 offer completed              0  \n",
       "                                 offer received               2  \n",
       "                                 offer viewed                 2  \n",
       "0020c2b971eb4e9188eac86d93036a77 offer completed              0  \n",
       "                                 offer received               1  \n",
       "                                 offer viewed                 1  \n",
       "0020ccbbb6d84e358d3414a3ff76cffd offer completed              0  \n",
       "                                 offer received               1  \n",
       "                                 offer viewed                 1  \n",
       "003d66b6608740288d6cc97a6903f4f0 offer completed              0  \n",
       "                                 offer received               2  \n",
       "                                 offer viewed                 2  \n",
       "00426fe3ffde4c6b9cb9ad6d077a13ea offer completed              0  \n",
       "                                 offer received               1  \n",
       "                                 offer viewed                 1  "
      ]
     },
     "execution_count": 43,
     "metadata": {},
     "output_type": "execute_result"
    }
   ],
   "source": [
    "offers_by_person = event_detail_df.groupby(['person', 'event', 'offer_type'])['offer_type'].count().unstack(fill_value=0)\n",
    "offers_by_person.head(20)"
   ]
  },
  {
   "cell_type": "markdown",
   "metadata": {},
   "source": [
    "### Make Recommendations"
   ]
  },
  {
   "cell_type": "markdown",
   "metadata": {},
   "source": [
    "Find users with similar demographic information to the input user.\n",
    "* Get the user from the profile dataset\n",
    "* Get the user's age, gender, and income\n",
    "* Filter the dataframe by user's gender and specified age and income ranges. \n",
    "* Return ids of the similar users. "
   ]
  },
  {
   "cell_type": "code",
   "execution_count": 44,
   "metadata": {},
   "outputs": [],
   "source": [
    "def find_similar_users(user, age_dif=10, income_dif=10000, user_df=profile):\n",
    "    '''\n",
    "    Description: Takes in a user and finds other users with similar demographic information.\n",
    "    \n",
    "    Input:\n",
    "    user - string, the user to compare\n",
    "    age_dif - numeric, the maximum age difference between the user and other members. Defaults to 10 years. \n",
    "    income_dif - numeric, the maximum income difference in between the user and other members. Defaults to $10,000.\n",
    "    user_df - pandas dataframe, contains demographic information about all the users. Defaults to profile.\n",
    "    \n",
    "    Output:\n",
    "    similar_users - array, users simililar to the provided user\n",
    "    '''\n",
    "    \n",
    "    user_info = profile[profile['id'] == user]\n",
    "    age = user_info['age'].values[0]\n",
    "    gender = user_info['gender'].values[0]\n",
    "    income = user_info['income'].values[0]\n",
    "    similar_users = profile[(profile['age'] >= (age - age_dif)) & (profile['age'] <= (age + age_dif)) & \n",
    "       (profile['gender'] == gender) &\n",
    "       ((profile['income'] >= (income - income_dif)) & (profile['income'] <= (income + income_dif)))]['id'].values\n",
    "    \n",
    "    return similar_users"
   ]
  },
  {
   "cell_type": "markdown",
   "metadata": {},
   "source": [
    "Create a group from specified demographic information\n",
    "* Filter the dataframe by the specified age range, gender(s), and income range. \n",
    "* Return array of ids for users meeting the specifications."
   ]
  },
  {
   "cell_type": "code",
   "execution_count": 45,
   "metadata": {
    "scrolled": true
   },
   "outputs": [],
   "source": [
    "def create_user_group(age=[0, 118], gender=['M', 'F', 'O'], income=[0, 999999999], user_df=profile):\n",
    "    '''\n",
    "    Description: Takes in demographic information and outputs a list of users meeting those demographic specifications.\n",
    "    \n",
    "    Input:\n",
    "    age - array of two numeric values, the minimum and maximum ages for the user group. Defaults to range 0-118. \n",
    "    gender - array of single character strings, the genders for the user group. 'M' for male, 'F' for female, 'O' for other\n",
    "        or non-binary. Defaults to all three. \n",
    "    income - numeric, the minimum and maximum incomesfor the user group. Defaults to range $0 to $999,999,999.\n",
    "    user_df - pandas dataframe, contains demographic information about all the users. Defaults to profile.\n",
    "    \n",
    "    Output:\n",
    "    users - array, users meeting the provided demographic information\n",
    "    '''\n",
    "    users = profile[(profile['age'] >= (age[0])) & (profile['age'] <= (age[1])) & \n",
    "           (profile['gender'].isin(gender)) &\n",
    "           ((profile['income'] >= (income[0])) & (profile['income'] <= (income[1])))]['id'].values\n",
    "    return users"
   ]
  },
  {
   "cell_type": "markdown",
   "metadata": {},
   "source": [
    "Create recommendations for a group of users. \n",
    "* For each user in the group, get the information from the user_matrix and the user_count dataframes.\n",
    "* Get completed offers and viewed offers for the user for each offer type. Set to 0 if none exist. \n",
    "* Calculate weighted value of each offer type by 1 minus the absolute value of the difference between completed offers and viewed offers divided by the received offers. \n",
    "* Add each weight to the total weight for the offer type. \n",
    "* Sort the offer types by weight\n",
    "* Return the sorted array and a dictionary of the offers and their weights. "
   ]
  },
  {
   "cell_type": "code",
   "execution_count": 46,
   "metadata": {},
   "outputs": [],
   "source": [
    "def recommend_group_offers(group, df_count=event_count_df, df_detail=event_detail_df, user_matrix=offers_by_person):\n",
    "    '''\n",
    "    Description:\n",
    "    Sorts the offer types by how well a given group responds to the offer. \n",
    "    \n",
    "    Input:\n",
    "    group - array, \n",
    "    df_count - pandas dataframe, contains event interaction counts for each customer. \n",
    "    df_detail - pandas dataframe, contains details about the events that have occurred. \n",
    "    user_matrix - pandas dataframe, shoes the count of customer interactions for each offer type.\n",
    "    \n",
    "    Output: \n",
    "    top_offers - array, the array of offer types sorted by best response. Does not include ineffective offers.\n",
    "        If no offers are effective, contains a string stating such. \n",
    "    offer_weights - dictionary, the weights for each ofer type. \n",
    "    '''\n",
    "    bogo_weight = 0\n",
    "    discount_weight = 0\n",
    "    info_weight = 0\n",
    "    \n",
    "    top_offers = []\n",
    "    \n",
    "    for user in group:\n",
    "        try:\n",
    "            user_df = user_matrix.loc[user]\n",
    "            user_count = df_count.loc[user]\n",
    "            \n",
    "            counts = user_count.values\n",
    "            transactions, received, viewed, completed, profit, loss = counts[range(len(counts))]\n",
    "\n",
    "            if completed > 0:\n",
    "                completed_offers = user_df.loc['offer completed'].values\n",
    "            else:\n",
    "                completed_offers = [0, 0, 0]\n",
    "\n",
    "            if viewed > 0:\n",
    "                viewed_offers = user_df.loc['offer viewed'].values\n",
    "            else:\n",
    "                viewed_offers = [0, 0, 0]\n",
    "\n",
    "            bogo_weight += (1 - (abs(viewed_offers[0] - completed_offers[0])) / received)\n",
    "            discount_weight += (abs((viewed_offers[1] - completed_offers[1])) / received)\n",
    "            info_weight += (abs((viewed_offers[2] - completed_offers[2])) / received)\n",
    "            \n",
    "        except:\n",
    "            continue\n",
    "    \n",
    "    offer_weights = {'bogo': bogo_weight, 'discount': discount_weight, 'information': info_weight}\n",
    "    top_offers = sorted(offer_weights, key=offer_weights.get, reverse=True)\n",
    "    \n",
    "    \n",
    "    return top_offers, offer_weights"
   ]
  },
  {
   "cell_type": "markdown",
   "metadata": {},
   "source": [
    "### Evaluate Results\n",
    "Calculate the root mean squared error to check accuracy of recommendations\n",
    "* Create a dictionary to map each offer type to a number.\n",
    "* Create a prediction array mapping each offer type in the recommendation array to the dictionary. \n",
    "* Find squared error for each user and append it to errors array.\n",
    "* Find the mean of the errors array. \n",
    "* Return the square root of the mean squared error. "
   ]
  },
  {
   "cell_type": "code",
   "execution_count": 47,
   "metadata": {},
   "outputs": [],
   "source": [
    "def check_recommendation_accuracy(group, recommendation): \n",
    "    '''\n",
    "    Description: Checks the accuracy of the recommendations by checking the group prediction against each user. \n",
    "    Input:\n",
    "    group - array, the ids for the users in the recommendation group.\n",
    "    recommendation - array, the sorted array with the offer types in order of recommendation. \n",
    "    \n",
    "    Output: \n",
    "    rmse - float, the root mean squared error for the recommendations. \n",
    "    \n",
    "    '''\n",
    "    offer_dict = {'bogo': 1, 'discount': 2, 'information': 3}\n",
    "    pred = []\n",
    "    errors = []\n",
    "    for offer in recommendation:\n",
    "        pred.append(offer_dict[offer])\n",
    "    \n",
    "    for user in group:\n",
    "        actual = []\n",
    "        \n",
    "        for offer in recommend_group_offers([user])[0]:\n",
    "            actual.append(offer_dict[offer])\n",
    "            \n",
    "        sq_error = np.sum((pd.Series(actual) - pd.Series(pred)) **2)\n",
    "        errors.append(sq_error)\n",
    "        \n",
    "    mean_sq_error = pd.Series(errors).mean()\n",
    "    rmse = math.sqrt(mean_sq_error)\n",
    "    \n",
    "    return rmse"
   ]
  },
  {
   "cell_type": "markdown",
   "metadata": {},
   "source": [
    "### Examples"
   ]
  },
  {
   "cell_type": "markdown",
   "metadata": {},
   "source": [
    "No demographic info from list created before. "
   ]
  },
  {
   "cell_type": "code",
   "execution_count": 48,
   "metadata": {},
   "outputs": [
    {
     "data": {
      "image/png": "[encoded data removed]",
      "text/plain": [
       "<matplotlib.figure.Figure at 0x7fd5a3d0d9b0>"
      ]
     },
     "metadata": {
      "needs_background": "light"
     },
     "output_type": "display_data"
    }
   ],
   "source": [
    "recs, offers = recommend_group_offers(no_demo_users)\n",
    "plt.bar(offers.keys(), offers.values());"
   ]
  },
  {
   "cell_type": "code",
   "execution_count": 49,
   "metadata": {},
   "outputs": [
    {
     "data": {
      "text/plain": [
       "0.7258764025122583"
      ]
     },
     "execution_count": 49,
     "metadata": {},
     "output_type": "execute_result"
    }
   ],
   "source": [
    "check_recommendation_accuracy(no_demo_users, recs)"
   ]
  },
  {
   "cell_type": "code",
   "execution_count": 50,
   "metadata": {
    "scrolled": true
   },
   "outputs": [
    {
     "data": {
      "image/png": "[encoded data removed]",
      "text/plain": [
       "<matplotlib.figure.Figure at 0x7fd5ef75e908>"
      ]
     },
     "metadata": {
      "needs_background": "light"
     },
     "output_type": "display_data"
    }
   ],
   "source": [
    "sim_group = find_similar_users('0009655768c64bdeb2e877511632db8f')\n",
    "recs, offers = recommend_group_offers(sim_group)\n",
    "plt.bar(offers.keys(), offers.values());"
   ]
  },
  {
   "cell_type": "code",
   "execution_count": 51,
   "metadata": {},
   "outputs": [
    {
     "data": {
      "text/plain": [
       "1.1551623262554922"
      ]
     },
     "execution_count": 51,
     "metadata": {},
     "output_type": "execute_result"
    }
   ],
   "source": [
    "check_recommendation_accuracy(sim_group, recs)"
   ]
  },
  {
   "cell_type": "code",
   "execution_count": 52,
   "metadata": {},
   "outputs": [
    {
     "data": {
      "image/png": "[encoded data removed]",
      "text/plain": [
       "<matplotlib.figure.Figure at 0x7fd5a3fe2240>"
      ]
     },
     "metadata": {
      "needs_background": "light"
     },
     "output_type": "display_data"
    }
   ],
   "source": [
    "sim_group2 = find_similar_users('0020ccbbb6d84e358d3414a3ff76cffd', 20, 20000)\n",
    "recs, offers = recommend_group_offers(sim_group2)\n",
    "plt.bar(offers.keys(), offers.values());"
   ]
  },
  {
   "cell_type": "code",
   "execution_count": 53,
   "metadata": {},
   "outputs": [
    {
     "data": {
      "text/plain": [
       "1.1236102527122116"
      ]
     },
     "execution_count": 53,
     "metadata": {},
     "output_type": "execute_result"
    }
   ],
   "source": [
    "check_recommendation_accuracy(sim_group2, recs)"
   ]
  },
  {
   "cell_type": "code",
   "execution_count": 54,
   "metadata": {},
   "outputs": [
    {
     "data": {
      "image/png": "[encoded data removed]",
      "text/plain": [
       "<matplotlib.figure.Figure at 0x7fd5e83849e8>"
      ]
     },
     "metadata": {
      "needs_background": "light"
     },
     "output_type": "display_data"
    }
   ],
   "source": [
    "new_group = create_user_group([20,30], ['F'], [50000, 70000])\n",
    "recs, offers = recommend_group_offers(new_group)\n",
    "plt.bar(offers.keys(), offers.values());"
   ]
  },
  {
   "cell_type": "code",
   "execution_count": 55,
   "metadata": {},
   "outputs": [
    {
     "data": {
      "text/plain": [
       "0.7893767021450832"
      ]
     },
     "execution_count": 55,
     "metadata": {},
     "output_type": "execute_result"
    }
   ],
   "source": [
    "check_recommendation_accuracy(new_group, recs)"
   ]
  }
 ],
 "metadata": {
  "kernelspec": {
   "display_name": "Python 3",
   "language": "python",
   "name": "python3"
  },
  "language_info": {
   "codemirror_mode": {
    "name": "ipython",
    "version": 3
   },
   "file_extension": ".py",
   "mimetype": "text/x-python",
   "name": "python",
   "nbconvert_exporter": "python",
   "pygments_lexer": "ipython3",
   "version": "3.6.3"
  }
 },
 "nbformat": 4,
 "nbformat_minor": 2
}
